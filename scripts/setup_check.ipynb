{
 "cells": [
  {
   "cell_type": "code",
   "execution_count": null,
   "metadata": {
    "vscode": {
     "languageId": "plaintext"
    }
   },
   "outputs": [],
   "source": [
    "import pyspark\n",
    "from pyspark.sql import SparkSession\n",
    "import os\n",
    "\n",
    "## DEFINE SENSITIVE VARIABLES\n",
    "NESSIE_SERVER_URI = \"http://nessie:19120/api/v2\"\n",
    "WAREHOUSE_BUCKET = \"s3://warehouse\"\n",
    "# use the IP of the minio server for this to be resolved\n",
    "MINIO_URI = \"http://minio:9000\"\n",
    "\n",
    "\n",
    "## Configurations for Spark Session\n",
    "conf = (\n",
    "    pyspark.SparkConf()\n",
    "        .setAppName('app_name')\n",
    "  \t\t#packages\n",
    "        .set('spark.jars.packages', 'org.apache.iceberg:iceberg-spark-runtime-3.5_2.12:1.5.2,org.projectnessie.nessie-integrations:nessie-spark-extensions-3.5_2.12:0.91.3,software.amazon.awssdk:bundle:2.20.131,software.amazon.awssdk:url-connection-client:2.20.131')\n",
    "  \t\t#SQL Extensions\n",
    "        .set('spark.sql.extensions', 'org.apache.iceberg.spark.extensions.IcebergSparkSessionExtensions,org.projectnessie.spark.extensions.NessieSparkSessionExtensions')\n",
    "  \t\t#Configuring Catalog\n",
    "        .set('spark.sql.catalog.nessie', 'org.apache.iceberg.spark.SparkCatalog')\n",
    "        .set('spark.sql.catalog.nessie.uri', NESSIE_SERVER_URI)\n",
    "        .set('spark.sql.catalog.nessie.ref', 'main')\n",
    "        .set('spark.sql.catalog.nessie.authentication.type', 'NONE')\n",
    "        .set('spark.sql.catalog.nessie.catalog-impl', 'org.apache.iceberg.nessie.NessieCatalog')\n",
    "        .set(\"spark.sql.catalog.nessie.s3.endpoint\",MINIO_URI)\n",
    "        .set('spark.sql.catalog.nessie.warehouse', WAREHOUSE_BUCKET)\n",
    "        .set('spark.sql.catalog.nessie.io-impl', 'org.apache.iceberg.aws.s3.S3FileIO')\n",
    "        .set('spark.jars.ivySettings','/path/to/custom-ivysettings.xml')\n",
    ")\n",
    "\n",
    "## Start Spark Session\n",
    "spark = SparkSession.builder.config(conf=conf).getOrCreate()\n",
    "print(\"Spark Running\")\n",
    "\n",
    "\n",
    "## TEST QUERY TO CHECK IT WORKING\n",
    "### Create TABLE\n",
    "spark.sql(\"CREATE TABLE nessie.example (name STRING) USING iceberg;\").show()\n",
    "### INSERT INTO TABLE\n",
    "spark.sql(\"INSERT INTO nessie.example VALUES ('Jai Guru!');\").show()\n",
    "### Query Table\n",
    "spark.sql(\"SELECT * FROM nessie.example;\").show()"
   ]
  }
 ],
 "metadata": {
  "language_info": {
   "name": "python"
  }
 },
 "nbformat": 4,
 "nbformat_minor": 2
}
